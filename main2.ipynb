{
 "cells": [
  {
   "cell_type": "code",
   "execution_count": 3,
   "metadata": {},
   "outputs": [],
   "source": [
    "import pandas as pd\n",
    "import seaborn as sns\n",
    "import numpy as np\n",
    "import altair as alt\n",
    "import matplotlib.pyplot as plt\n",
    "from sklearn.linear_model import LogisticRegression\n",
    "from sklearn.linear_model import LinearRegression\n",
    "from sklearn.model_selection import train_test_split\n"
   ]
  },
  {
   "cell_type": "code",
   "execution_count": 4,
   "metadata": {},
   "outputs": [
    {
     "name": "stdout",
     "output_type": "stream",
     "text": [
      "    id city_name    signup_os signup_channel signup_date bgc_date  \\\n",
      "0    1    Strark      ios web           Paid      1/2/16      NaN   \n",
      "1    2    Strark      windows           Paid     1/21/16      NaN   \n",
      "2    3   Wrouver      windows        Organic     1/11/16  1/11/16   \n",
      "3    4    Berton  android web       Referral     1/29/16   2/3/16   \n",
      "4    5    Strark  android web       Referral     1/10/16  1/25/16   \n",
      "5    6    Strark  android web       Referral     1/18/16  1/18/16   \n",
      "6    7    Strark      ios web           Paid     1/14/16  1/16/16   \n",
      "7    8    Strark      ios web       Referral     1/26/16   2/5/16   \n",
      "8    9    Strark          NaN       Referral      1/5/16      NaN   \n",
      "9   10    Berton      ios web           Paid     1/25/16      NaN   \n",
      "10  11    Strark      ios web       Referral     1/18/16   2/9/16   \n",
      "11  12    Berton          mac           Paid      1/4/16      NaN   \n",
      "12  13    Strark  android web       Referral     1/12/16  1/12/16   \n",
      "13  14    Strark      ios web           Paid     1/13/16  1/20/16   \n",
      "14  15    Strark      windows           Paid      1/2/16   1/7/16   \n",
      "15  16    Strark      windows       Referral     1/15/16  1/17/16   \n",
      "16  17   Wrouver      ios web           Paid     1/24/16      NaN   \n",
      "17  18    Strark  android web           Paid     1/21/16  1/25/16   \n",
      "18  19    Berton      ios web        Organic     1/16/16  1/17/16   \n",
      "19  20    Strark      ios web        Organic      1/7/16      NaN   \n",
      "\n",
      "   vehicle_added_date vehicle_make vehicle_model  vehicle_year  \\\n",
      "0                 NaN          NaN           NaN           NaN   \n",
      "1                 NaN          NaN           NaN           NaN   \n",
      "2                 NaN          NaN           NaN           NaN   \n",
      "3              2/3/16       Toyota       Corolla        2016.0   \n",
      "4             1/26/16      Hyundai        Sonata        2016.0   \n",
      "5             1/22/16     Cadillac           DTS        2006.0   \n",
      "6             1/21/16       Toyota       Prius V        2014.0   \n",
      "7                 NaN          NaN           NaN           NaN   \n",
      "8                 NaN          NaN           NaN           NaN   \n",
      "9                 NaN          NaN           NaN           NaN   \n",
      "10            2/24/16          Kia        Optima        2015.0   \n",
      "11                NaN          NaN           NaN           NaN   \n",
      "12            1/12/16          Kia        Optima        2015.0   \n",
      "13                NaN          NaN           NaN           NaN   \n",
      "14                NaN          NaN           NaN           NaN   \n",
      "15            1/17/16       Toyota       Prius V        2015.0   \n",
      "16                NaN          NaN           NaN           NaN   \n",
      "17                NaN          NaN           NaN           NaN   \n",
      "18                NaN          NaN           NaN           NaN   \n",
      "19                NaN          NaN           NaN           NaN   \n",
      "\n",
      "   first_completed_date  \n",
      "0                   NaN  \n",
      "1                   NaN  \n",
      "2                   NaN  \n",
      "3                2/3/16  \n",
      "4                   NaN  \n",
      "5                   NaN  \n",
      "6               1/23/16  \n",
      "7                   NaN  \n",
      "8                   NaN  \n",
      "9                   NaN  \n",
      "10                  NaN  \n",
      "11                  NaN  \n",
      "12              1/28/16  \n",
      "13                  NaN  \n",
      "14                  NaN  \n",
      "15              1/16/16  \n",
      "16                  NaN  \n",
      "17                  NaN  \n",
      "18                  NaN  \n",
      "19                  NaN  \n",
      "(54681,)\n"
     ]
    }
   ],
   "source": [
    "df = pd.read_csv(\"data1.csv\")\n",
    "print(df.head(20))\n",
    "df.drop_duplicates()\n",
    "print(df['id'].unique().shape)"
   ]
  },
  {
   "cell_type": "code",
   "execution_count": 5,
   "metadata": {},
   "outputs": [
    {
     "data": {
      "text/plain": [
       "(6137, 11)"
      ]
     },
     "execution_count": 5,
     "metadata": {},
     "output_type": "execute_result"
    }
   ],
   "source": [
    "first_trip_df = df.dropna(subset = ['first_completed_date'])\n",
    "first_trip_df.shape"
   ]
  },
  {
   "cell_type": "code",
   "execution_count": 6,
   "metadata": {},
   "outputs": [
    {
     "name": "stdout",
     "output_type": "stream",
     "text": [
      "[False  True]\n",
      "0.11223276823759624\n"
     ]
    }
   ],
   "source": [
    "df['Completed_drive'] = df['first_completed_date'].apply(lambda x: True if pd.notnull(x) else False)\n",
    "agg_data = df.groupby(['city_name', 'Completed_drive']).size().unstack()\n",
    "percentage_data = agg_data.div(agg_data.sum(axis=1), axis=0) * 100\n",
    "print(df['Completed_drive'].unique())\n",
    "print(first_trip_df.shape[0] / df.shape[0])"
   ]
  },
  {
   "cell_type": "code",
   "execution_count": 7,
   "metadata": {},
   "outputs": [
    {
     "data": {
      "image/png": "[encoded data removed]",
      "text/plain": [
       "<Figure size 1000x600 with 1 Axes>"
      ]
     },
     "metadata": {},
     "output_type": "display_data"
    }
   ],
   "source": [
    "colors = ['#6FCF97', '#F2C94C', '#56CCF2']  # customize as you like\n",
    "\n",
    "ax = agg_data.plot(kind=\"bar\", stacked=True, figsize=(10, 6), color = colors)\n",
    "\n",
    "for i, city in enumerate(agg_data.index):\n",
    "    y_offset = 0\n",
    "    for val in agg_data.columns:\n",
    "        count = agg_data.loc[city, val]\n",
    "        percent = percentage_data.loc[city, val]\n",
    "        \n",
    "        if count > 0:\n",
    "            ax.text(i, y_offset + count / 2, f'{percent:.1f}%', ha='center', va='center', fontsize=10)\n",
    "        \n",
    "        y_offset += count\n",
    "\n",
    "plt.ylabel(\"Number of Drives\")\n",
    "plt.title(\"Completed vs Not Completed Drives by City (with %)\")\n",
    "plt.xticks(rotation=45)\n",
    "plt.tight_layout()\n",
    "plt.show()"
   ]
  },
  {
   "cell_type": "code",
   "execution_count": 8,
   "metadata": {},
   "outputs": [
    {
     "data": {
      "text/html": [
       "\n",
       "<style>\n",
       "  #altair-viz-fdf980319bfd4b188ac8ddef8f6db58e.vega-embed {\n",
       "    width: 100%;\n",
       "    display: flex;\n",
       "  }\n",
       "\n",
       "  #altair-viz-fdf980319bfd4b188ac8ddef8f6db58e.vega-embed details,\n",
       "  #altair-viz-fdf980319bfd4b188ac8ddef8f6db58e.vega-embed details summary {\n",
       "    position: relative;\n",
       "  }\n",
       "</style>\n",
       "<div id=\"altair-viz-fdf980319bfd4b188ac8ddef8f6db58e\"></div>\n",
       "<script type=\"text/javascript\">\n",
       "  var VEGA_DEBUG = (typeof VEGA_DEBUG == \"undefined\") ? {} : VEGA_DEBUG;\n",
       "  (function(spec, embedOpt){\n",
       "    let outputDiv = document.currentScript.previousElementSibling;\n",
       "    if (outputDiv.id !== \"altair-viz-fdf980319bfd4b188ac8ddef8f6db58e\") {\n",
       "      outputDiv = document.getElementById(\"altair-viz-fdf980319bfd4b188ac8ddef8f6db58e\");\n",
       "    }\n",
       "\n",
       "    const paths = {\n",
       "      \"vega\": \"https://cdn.jsdelivr.net/npm/vega@5?noext\",\n",
       "      \"vega-lib\": \"https://cdn.jsdelivr.net/npm/vega-lib?noext\",\n",
       "      \"vega-lite\": \"https://cdn.jsdelivr.net/npm/vega-lite@5.20.1?noext\",\n",
       "      \"vega-embed\": \"https://cdn.jsdelivr.net/npm/vega-embed@6?noext\",\n",
       "    };\n",
       "\n",
       "    function maybeLoadScript(lib, version) {\n",
       "      var key = `${lib.replace(\"-\", \"\")}_version`;\n",
       "      return (VEGA_DEBUG[key] == version) ?\n",
       "        Promise.resolve(paths[lib]) :\n",
       "        new Promise(function(resolve, reject) {\n",
       "          var s = document.createElement('script');\n",
       "          document.getElementsByTagName(\"head\")[0].appendChild(s);\n",
       "          s.async = true;\n",
       "          s.onload = () => {\n",
       "            VEGA_DEBUG[key] = version;\n",
       "            return resolve(paths[lib]);\n",
       "          };\n",
       "          s.onerror = () => reject(`Error loading script: ${paths[lib]}`);\n",
       "          s.src = paths[lib];\n",
       "        });\n",
       "    }\n",
       "\n",
       "    function showError(err) {\n",
       "      outputDiv.innerHTML = `<div class=\"error\" style=\"color:red;\">${err}</div>`;\n",
       "      throw err;\n",
       "    }\n",
       "\n",
       "    function displayChart(vegaEmbed) {\n",
       "      vegaEmbed(outputDiv, spec, embedOpt)\n",
       "        .catch(err => showError(`Javascript Error: ${err.message}<br>This usually means there's a typo in your chart specification. See the javascript console for the full traceback.`));\n",
       "    }\n",
       "\n",
       "    if(typeof define === \"function\" && define.amd) {\n",
       "      requirejs.config({paths});\n",
       "      let deps = [\"vega-embed\"];\n",
       "      require(deps, displayChart, err => showError(`Error loading script: ${err.message}`));\n",
       "    } else {\n",
       "      maybeLoadScript(\"vega\", \"5\")\n",
       "        .then(() => maybeLoadScript(\"vega-lite\", \"5.20.1\"))\n",
       "        .then(() => maybeLoadScript(\"vega-embed\", \"6\"))\n",
       "        .catch(showError)\n",
       "        .then(() => displayChart(vegaEmbed));\n",
       "    }\n",
       "  })({\"config\": {\"view\": {\"continuousWidth\": 300, \"continuousHeight\": 300}}, \"hconcat\": [{\"data\": {\"name\": \"data-d1bf4495df1ff8130efb98f01f1a6e71\"}, \"mark\": {\"type\": \"bar\"}, \"encoding\": {\"color\": {\"field\": \"signup_channel\", \"scale\": {\"range\": [\"#1f77b4\", \"#ff7f0e\", \"#2ca02c\"]}, \"title\": \"Signup Channel\", \"type\": \"nominal\"}, \"tooltip\": [{\"field\": \"signup_channel\", \"type\": \"nominal\"}, {\"field\": \"Count\", \"type\": \"quantitative\"}], \"x\": {\"field\": \"signup_channel\", \"sort\": [\"Paid\", \"Organic\", \"Referral\"], \"title\": \"Signup Channel\", \"type\": \"nominal\"}, \"y\": {\"field\": \"Count\", \"title\": \"Completed Drive = True\", \"type\": \"quantitative\"}}, \"height\": 200, \"title\": \"Drivers with Completed Drive Only\", \"width\": 300}, {\"data\": {\"name\": \"data-517d60a791b6f64ad6a01aea05149ac2\"}, \"mark\": {\"type\": \"bar\"}, \"encoding\": {\"color\": {\"field\": \"Completed_drive\", \"title\": \"Completed Drive\", \"type\": \"nominal\"}, \"tooltip\": [{\"field\": \"signup_channel\", \"type\": \"nominal\"}, {\"field\": \"Completed_drive\", \"type\": \"nominal\"}, {\"field\": \"Count\", \"type\": \"quantitative\"}], \"x\": {\"field\": \"signup_channel\", \"sort\": [\"Paid\", \"Organic\", \"Referral\"], \"title\": \"Signup Channel\", \"type\": \"nominal\"}, \"y\": {\"field\": \"Count\", \"title\": \"Total Drivers\", \"type\": \"quantitative\"}}, \"height\": 200, \"title\": \"Completed vs Not Completed Drives (Stacked)\", \"width\": 300}], \"$schema\": \"https://vega.github.io/schema/vega-lite/v5.20.1.json\", \"datasets\": {\"data-d1bf4495df1ff8130efb98f01f1a6e71\": [{\"signup_channel\": \"Organic\", \"Count\": 1210}, {\"signup_channel\": \"Paid\", \"Count\": 1482}, {\"signup_channel\": \"Referral\", \"Count\": 3445}], \"data-517d60a791b6f64ad6a01aea05149ac2\": [{\"signup_channel\": \"Organic\", \"Completed_drive\": false, \"Count\": 12217}, {\"signup_channel\": \"Organic\", \"Completed_drive\": true, \"Count\": 1210}, {\"signup_channel\": \"Paid\", \"Completed_drive\": false, \"Count\": 22456}, {\"signup_channel\": \"Paid\", \"Completed_drive\": true, \"Count\": 1482}, {\"signup_channel\": \"Referral\", \"Completed_drive\": false, \"Count\": 13871}, {\"signup_channel\": \"Referral\", \"Completed_drive\": true, \"Count\": 3445}]}}, {\"mode\": \"vega-lite\"});\n",
       "</script>"
      ],
      "text/plain": [
       "alt.HConcatChart(...)"
      ]
     },
     "execution_count": 8,
     "metadata": {},
     "output_type": "execute_result"
    }
   ],
   "source": [
    "df_true = df[df['Completed_drive'] == True].groupby('signup_channel').size().reset_index(name='Count')\n",
    "\n",
    "df_stacked = df.groupby(['signup_channel', 'Completed_drive']).size().reset_index(name='Count')\n",
    "\n",
    "ordered_channels = ['Paid', 'Organic', 'Referral']\n",
    "\n",
    "chart_true = alt.Chart(df_true).mark_bar().encode(\n",
    "    x=alt.X('signup_channel:N', sort=ordered_channels, title='Signup Channel'),\n",
    "    y=alt.Y('Count:Q', title='Completed Drive = True'),\n",
    "    color=alt.Color('signup_channel:N', scale=alt.Scale(range=['#1f77b4', '#ff7f0e', '#2ca02c']), title='Signup Channel'),\n",
    "    tooltip=['signup_channel', 'Count']\n",
    ").properties(\n",
    "    width=300,\n",
    "    height=200,\n",
    "    title='Drivers with Completed Drive Only'\n",
    ")\n",
    "\n",
    "chart_stacked = alt.Chart(df_stacked).mark_bar().encode(\n",
    "    x=alt.X('signup_channel:N', sort=ordered_channels, title='Signup Channel'),\n",
    "    y=alt.Y('Count:Q', title='Total Drivers'),\n",
    "    color=alt.Color('Completed_drive:N', title='Completed Drive'),\n",
    "    tooltip=['signup_channel', 'Completed_drive', 'Count']\n",
    ").properties(\n",
    "    width=300,\n",
    "    height=200,\n",
    "    title='Completed vs Not Completed Drives (Stacked)'\n",
    ")\n",
    "\n",
    "# Combine the two charts vertically\n",
    "final_chart = alt.hconcat(chart_true, chart_stacked)\n",
    "final_chart"
   ]
  },
  {
   "cell_type": "code",
   "execution_count": 9,
   "metadata": {},
   "outputs": [
    {
     "name": "stdout",
     "output_type": "stream",
     "text": [
      "Paid: 6.19%\n",
      "Organic: 9.01%\n",
      "Referral: 19.89%\n"
     ]
    }
   ],
   "source": [
    "print(f'Paid: {1482/(22456+1482)*100:.2f}%')\n",
    "print(f'Organic: {1210/(12217+1210)*100:.2f}%')\n",
    "print(f'Referral: {3445/(13871+3445)*100:.2f}%')"
   ]
  },
  {
   "cell_type": "code",
   "execution_count": 10,
   "metadata": {},
   "outputs": [
    {
     "name": "stdout",
     "output_type": "stream",
     "text": [
      "    id city_name    signup_os signup_channel signup_date bgc_date  \\\n",
      "0    1    Strark      ios web           Paid      1/2/16      NaN   \n",
      "1    2    Strark      windows           Paid     1/21/16      NaN   \n",
      "2    3   Wrouver      windows        Organic     1/11/16  1/11/16   \n",
      "3    4    Berton  android web       Referral     1/29/16   2/3/16   \n",
      "4    5    Strark  android web       Referral     1/10/16  1/25/16   \n",
      "5    6    Strark  android web       Referral     1/18/16  1/18/16   \n",
      "6    7    Strark      ios web           Paid     1/14/16  1/16/16   \n",
      "7    8    Strark      ios web       Referral     1/26/16   2/5/16   \n",
      "8    9    Strark          NaN       Referral      1/5/16      NaN   \n",
      "9   10    Berton      ios web           Paid     1/25/16      NaN   \n",
      "10  11    Strark      ios web       Referral     1/18/16   2/9/16   \n",
      "11  12    Berton          mac           Paid      1/4/16      NaN   \n",
      "12  13    Strark  android web       Referral     1/12/16  1/12/16   \n",
      "13  14    Strark      ios web           Paid     1/13/16  1/20/16   \n",
      "14  15    Strark      windows           Paid      1/2/16   1/7/16   \n",
      "15  16    Strark      windows       Referral     1/15/16  1/17/16   \n",
      "16  17   Wrouver      ios web           Paid     1/24/16      NaN   \n",
      "17  18    Strark  android web           Paid     1/21/16  1/25/16   \n",
      "18  19    Berton      ios web        Organic     1/16/16  1/17/16   \n",
      "19  20    Strark      ios web        Organic      1/7/16      NaN   \n",
      "\n",
      "   vehicle_added_date vehicle_make vehicle_model  vehicle_year  \\\n",
      "0                 NaN          NaN           NaN           NaN   \n",
      "1                 NaN          NaN           NaN           NaN   \n",
      "2                 NaN          NaN           NaN           NaN   \n",
      "3              2/3/16       Toyota       Corolla        2016.0   \n",
      "4             1/26/16      Hyundai        Sonata        2016.0   \n",
      "5             1/22/16     Cadillac           DTS        2006.0   \n",
      "6             1/21/16       Toyota       Prius V        2014.0   \n",
      "7                 NaN          NaN           NaN           NaN   \n",
      "8                 NaN          NaN           NaN           NaN   \n",
      "9                 NaN          NaN           NaN           NaN   \n",
      "10            2/24/16          Kia        Optima        2015.0   \n",
      "11                NaN          NaN           NaN           NaN   \n",
      "12            1/12/16          Kia        Optima        2015.0   \n",
      "13                NaN          NaN           NaN           NaN   \n",
      "14                NaN          NaN           NaN           NaN   \n",
      "15            1/17/16       Toyota       Prius V        2015.0   \n",
      "16                NaN          NaN           NaN           NaN   \n",
      "17                NaN          NaN           NaN           NaN   \n",
      "18                NaN          NaN           NaN           NaN   \n",
      "19                NaN          NaN           NaN           NaN   \n",
      "\n",
      "   first_completed_date  Completed_drive  \n",
      "0                   NaN            False  \n",
      "1                   NaN            False  \n",
      "2                   NaN            False  \n",
      "3                2/3/16             True  \n",
      "4                   NaN            False  \n",
      "5                   NaN            False  \n",
      "6               1/23/16             True  \n",
      "7                   NaN            False  \n",
      "8                   NaN            False  \n",
      "9                   NaN            False  \n",
      "10                  NaN            False  \n",
      "11                  NaN            False  \n",
      "12              1/28/16             True  \n",
      "13                  NaN            False  \n",
      "14                  NaN            False  \n",
      "15              1/16/16             True  \n",
      "16                  NaN            False  \n",
      "17                  NaN            False  \n",
      "18                  NaN            False  \n",
      "19                  NaN            False  \n"
     ]
    },
    {
     "name": "stderr",
     "output_type": "stream",
     "text": [
      "/var/folders/0b/kbxw3yp15078rb4blsyr1khw0000gn/T/ipykernel_18110/1368090098.py:9: UserWarning: Could not infer format, so each element will be parsed individually, falling back to `dateutil`. To ensure parsing is consistent and as-expected, please specify a format.\n",
      "  df['bgc_date'] = pd.to_datetime(df['bgc_date'], dayfirst=True, errors='coerce')\n",
      "/var/folders/0b/kbxw3yp15078rb4blsyr1khw0000gn/T/ipykernel_18110/1368090098.py:11: UserWarning: Could not infer format, so each element will be parsed individually, falling back to `dateutil`. To ensure parsing is consistent and as-expected, please specify a format.\n",
      "  df['signup_date'] = pd.to_datetime(df['signup_date'], dayfirst=True, errors='coerce')\n",
      "/var/folders/0b/kbxw3yp15078rb4blsyr1khw0000gn/T/ipykernel_18110/1368090098.py:13: UserWarning: Could not infer format, so each element will be parsed individually, falling back to `dateutil`. To ensure parsing is consistent and as-expected, please specify a format.\n",
      "  df['vehicle_added_date'] = pd.to_datetime(df['vehicle_added_date'], dayfirst=True, errors='coerce')\n"
     ]
    },
    {
     "ename": "KeyError",
     "evalue": "\"['group'] not found in axis\"",
     "output_type": "error",
     "traceback": [
      "\u001b[0;31m---------------------------------------------------------------------------\u001b[0m",
      "\u001b[0;31mKeyError\u001b[0m                                  Traceback (most recent call last)",
      "Cell \u001b[0;32mIn[10], line 18\u001b[0m\n\u001b[1;32m     15\u001b[0m df[\u001b[38;5;124m'\u001b[39m\u001b[38;5;124mCompleted_drive\u001b[39m\u001b[38;5;124m'\u001b[39m] \u001b[38;5;241m=\u001b[39m df[\u001b[38;5;124m'\u001b[39m\u001b[38;5;124mfirst_completed_date\u001b[39m\u001b[38;5;124m'\u001b[39m]\u001b[38;5;241m.\u001b[39mapply(\u001b[38;5;28;01mlambda\u001b[39;00m x: \u001b[38;5;241m1\u001b[39m \u001b[38;5;28;01mif\u001b[39;00m pd\u001b[38;5;241m.\u001b[39mnotnull(x) \u001b[38;5;28;01melse\u001b[39;00m \u001b[38;5;241m0\u001b[39m)\n\u001b[1;32m     16\u001b[0m df \u001b[38;5;241m=\u001b[39m df\u001b[38;5;241m.\u001b[39mdrop([\u001b[38;5;124m'\u001b[39m\u001b[38;5;124mfirst_completed_date\u001b[39m\u001b[38;5;124m'\u001b[39m], axis\u001b[38;5;241m=\u001b[39m\u001b[38;5;241m1\u001b[39m)\n\u001b[0;32m---> 18\u001b[0m df_filtered \u001b[38;5;241m=\u001b[39m df\u001b[38;5;241m.\u001b[39mdrop(columns\u001b[38;5;241m=\u001b[39m[\u001b[38;5;124m'\u001b[39m\u001b[38;5;124mvehicle_make\u001b[39m\u001b[38;5;124m'\u001b[39m, \u001b[38;5;124m'\u001b[39m\u001b[38;5;124mvehicle_model\u001b[39m\u001b[38;5;124m'\u001b[39m, \u001b[38;5;124m'\u001b[39m\u001b[38;5;124mgroup\u001b[39m\u001b[38;5;124m'\u001b[39m])\n\u001b[1;32m     19\u001b[0m df_filtered\u001b[38;5;241m.\u001b[39mcorr(method\u001b[38;5;241m=\u001b[39m\u001b[38;5;124m'\u001b[39m\u001b[38;5;124mpearson\u001b[39m\u001b[38;5;124m'\u001b[39m, min_periods\u001b[38;5;241m=\u001b[39m\u001b[38;5;241m1\u001b[39m, numeric_only\u001b[38;5;241m=\u001b[39m\u001b[38;5;28;01mFalse\u001b[39;00m)\n",
      "File \u001b[0;32m~/anaconda3/lib/python3.11/site-packages/pandas/core/frame.py:5344\u001b[0m, in \u001b[0;36mDataFrame.drop\u001b[0;34m(self, labels, axis, index, columns, level, inplace, errors)\u001b[0m\n\u001b[1;32m   5196\u001b[0m \u001b[38;5;28;01mdef\u001b[39;00m \u001b[38;5;21mdrop\u001b[39m(\n\u001b[1;32m   5197\u001b[0m     \u001b[38;5;28mself\u001b[39m,\n\u001b[1;32m   5198\u001b[0m     labels: IndexLabel \u001b[38;5;241m|\u001b[39m \u001b[38;5;28;01mNone\u001b[39;00m \u001b[38;5;241m=\u001b[39m \u001b[38;5;28;01mNone\u001b[39;00m,\n\u001b[0;32m   (...)\u001b[0m\n\u001b[1;32m   5205\u001b[0m     errors: IgnoreRaise \u001b[38;5;241m=\u001b[39m \u001b[38;5;124m\"\u001b[39m\u001b[38;5;124mraise\u001b[39m\u001b[38;5;124m\"\u001b[39m,\n\u001b[1;32m   5206\u001b[0m ) \u001b[38;5;241m-\u001b[39m\u001b[38;5;241m>\u001b[39m DataFrame \u001b[38;5;241m|\u001b[39m \u001b[38;5;28;01mNone\u001b[39;00m:\n\u001b[1;32m   5207\u001b[0m \u001b[38;5;250m    \u001b[39m\u001b[38;5;124;03m\"\"\"\u001b[39;00m\n\u001b[1;32m   5208\u001b[0m \u001b[38;5;124;03m    Drop specified labels from rows or columns.\u001b[39;00m\n\u001b[1;32m   5209\u001b[0m \n\u001b[0;32m   (...)\u001b[0m\n\u001b[1;32m   5342\u001b[0m \u001b[38;5;124;03m            weight  1.0     0.8\u001b[39;00m\n\u001b[1;32m   5343\u001b[0m \u001b[38;5;124;03m    \"\"\"\u001b[39;00m\n\u001b[0;32m-> 5344\u001b[0m     \u001b[38;5;28;01mreturn\u001b[39;00m \u001b[38;5;28msuper\u001b[39m()\u001b[38;5;241m.\u001b[39mdrop(\n\u001b[1;32m   5345\u001b[0m         labels\u001b[38;5;241m=\u001b[39mlabels,\n\u001b[1;32m   5346\u001b[0m         axis\u001b[38;5;241m=\u001b[39maxis,\n\u001b[1;32m   5347\u001b[0m         index\u001b[38;5;241m=\u001b[39mindex,\n\u001b[1;32m   5348\u001b[0m         columns\u001b[38;5;241m=\u001b[39mcolumns,\n\u001b[1;32m   5349\u001b[0m         level\u001b[38;5;241m=\u001b[39mlevel,\n\u001b[1;32m   5350\u001b[0m         inplace\u001b[38;5;241m=\u001b[39minplace,\n\u001b[1;32m   5351\u001b[0m         errors\u001b[38;5;241m=\u001b[39merrors,\n\u001b[1;32m   5352\u001b[0m     )\n",
      "File \u001b[0;32m~/anaconda3/lib/python3.11/site-packages/pandas/core/generic.py:4711\u001b[0m, in \u001b[0;36mNDFrame.drop\u001b[0;34m(self, labels, axis, index, columns, level, inplace, errors)\u001b[0m\n\u001b[1;32m   4709\u001b[0m \u001b[38;5;28;01mfor\u001b[39;00m axis, labels \u001b[38;5;129;01min\u001b[39;00m axes\u001b[38;5;241m.\u001b[39mitems():\n\u001b[1;32m   4710\u001b[0m     \u001b[38;5;28;01mif\u001b[39;00m labels \u001b[38;5;129;01mis\u001b[39;00m \u001b[38;5;129;01mnot\u001b[39;00m \u001b[38;5;28;01mNone\u001b[39;00m:\n\u001b[0;32m-> 4711\u001b[0m         obj \u001b[38;5;241m=\u001b[39m obj\u001b[38;5;241m.\u001b[39m_drop_axis(labels, axis, level\u001b[38;5;241m=\u001b[39mlevel, errors\u001b[38;5;241m=\u001b[39merrors)\n\u001b[1;32m   4713\u001b[0m \u001b[38;5;28;01mif\u001b[39;00m inplace:\n\u001b[1;32m   4714\u001b[0m     \u001b[38;5;28mself\u001b[39m\u001b[38;5;241m.\u001b[39m_update_inplace(obj)\n",
      "File \u001b[0;32m~/anaconda3/lib/python3.11/site-packages/pandas/core/generic.py:4753\u001b[0m, in \u001b[0;36mNDFrame._drop_axis\u001b[0;34m(self, labels, axis, level, errors, only_slice)\u001b[0m\n\u001b[1;32m   4751\u001b[0m         new_axis \u001b[38;5;241m=\u001b[39m axis\u001b[38;5;241m.\u001b[39mdrop(labels, level\u001b[38;5;241m=\u001b[39mlevel, errors\u001b[38;5;241m=\u001b[39merrors)\n\u001b[1;32m   4752\u001b[0m     \u001b[38;5;28;01melse\u001b[39;00m:\n\u001b[0;32m-> 4753\u001b[0m         new_axis \u001b[38;5;241m=\u001b[39m axis\u001b[38;5;241m.\u001b[39mdrop(labels, errors\u001b[38;5;241m=\u001b[39merrors)\n\u001b[1;32m   4754\u001b[0m     indexer \u001b[38;5;241m=\u001b[39m axis\u001b[38;5;241m.\u001b[39mget_indexer(new_axis)\n\u001b[1;32m   4756\u001b[0m \u001b[38;5;66;03m# Case for non-unique axis\u001b[39;00m\n\u001b[1;32m   4757\u001b[0m \u001b[38;5;28;01melse\u001b[39;00m:\n",
      "File \u001b[0;32m~/anaconda3/lib/python3.11/site-packages/pandas/core/indexes/base.py:7000\u001b[0m, in \u001b[0;36mIndex.drop\u001b[0;34m(self, labels, errors)\u001b[0m\n\u001b[1;32m   6998\u001b[0m \u001b[38;5;28;01mif\u001b[39;00m mask\u001b[38;5;241m.\u001b[39many():\n\u001b[1;32m   6999\u001b[0m     \u001b[38;5;28;01mif\u001b[39;00m errors \u001b[38;5;241m!=\u001b[39m \u001b[38;5;124m\"\u001b[39m\u001b[38;5;124mignore\u001b[39m\u001b[38;5;124m\"\u001b[39m:\n\u001b[0;32m-> 7000\u001b[0m         \u001b[38;5;28;01mraise\u001b[39;00m \u001b[38;5;167;01mKeyError\u001b[39;00m(\u001b[38;5;124mf\u001b[39m\u001b[38;5;124m\"\u001b[39m\u001b[38;5;132;01m{\u001b[39;00mlabels[mask]\u001b[38;5;241m.\u001b[39mtolist()\u001b[38;5;132;01m}\u001b[39;00m\u001b[38;5;124m not found in axis\u001b[39m\u001b[38;5;124m\"\u001b[39m)\n\u001b[1;32m   7001\u001b[0m     indexer \u001b[38;5;241m=\u001b[39m indexer[\u001b[38;5;241m~\u001b[39mmask]\n\u001b[1;32m   7002\u001b[0m \u001b[38;5;28;01mreturn\u001b[39;00m \u001b[38;5;28mself\u001b[39m\u001b[38;5;241m.\u001b[39mdelete(indexer)\n",
      "\u001b[0;31mKeyError\u001b[0m: \"['group'] not found in axis\""
     ]
    }
   ],
   "source": [
    "# correlation matrix w panda(by city?)\n",
    "print(df.head(20))\n",
    "city_map = {'Strark': 0, 'Wrouver': 1, 'Berton': 2}\n",
    "df['city_name'] = df['city_name'].map(city_map).dropna()\n",
    "os_map = {'ios web': 0, 'windows': 1, 'android web': 2, 'mac': 3, 'other': 4}\n",
    "df['signup_os'] = df['signup_os'].map(os_map).dropna()\n",
    "channel_map = {'Paid': 0, 'Organic': 1, 'Referral': 2}\n",
    "df['signup_channel'] = df['signup_channel'].map(channel_map).dropna()\n",
    "df['bgc_date'] = pd.to_datetime(df['bgc_date'], dayfirst=True, errors='coerce')\n",
    "df['bgc_date'] = (df['bgc_date'] - pd.Timestamp(\"2016-01-01\")).dropna()\n",
    "df['signup_date'] = pd.to_datetime(df['signup_date'], dayfirst=True, errors='coerce')\n",
    "df['signup_date'] = (df['signup_date'] - pd.Timestamp(\"2016-01-01\")).dropna()\n",
    "df['vehicle_added_date'] = pd.to_datetime(df['vehicle_added_date'], dayfirst=True, errors='coerce')\n",
    "df['vehicle_added_date'] = (df['vehicle_added_date'] - pd.Timestamp(\"2016-01-01\")).dropna()\n",
    "df['Completed_drive'] = df['first_completed_date'].apply(lambda x: 1 if pd.notnull(x) else 0)\n",
    "df = df.drop(['first_completed_date'], axis=1)\n",
    "\n",
    "df_filtered = df.drop(columns=['vehicle_make', 'vehicle_model', 'group'])\n",
    "df_filtered.corr(method='pearson', min_periods=1, numeric_only=False)"
   ]
  }
 ],
 "metadata": {
  "kernelspec": {
   "display_name": "base",
   "language": "python",
   "name": "python3"
  },
  "language_info": {
   "codemirror_mode": {
    "name": "ipython",
    "version": 3
   },
   "file_extension": ".py",
   "mimetype": "text/x-python",
   "name": "python",
   "nbconvert_exporter": "python",
   "pygments_lexer": "ipython3",
   "version": "3.11.8"
  }
 },
 "nbformat": 4,
 "nbformat_minor": 2
}
